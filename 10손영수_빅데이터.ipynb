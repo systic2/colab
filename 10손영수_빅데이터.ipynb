{
  "nbformat": 4,
  "nbformat_minor": 0,
  "metadata": {
    "colab": {
      "name": "10손영수_빅데이터.ipynb",
      "provenance": [],
      "collapsed_sections": [],
      "mount_file_id": "1OXTzq-7F_SL_nkHFPMx1cUIbwATZZQaN",
      "authorship_tag": "ABX9TyPCR1WE/+tGyfbOAY8RNlpF",
      "include_colab_link": true
    },
    "kernelspec": {
      "name": "python3",
      "display_name": "Python 3"
    },
    "language_info": {
      "name": "python"
    }
  },
  "cells": [
    {
      "cell_type": "markdown",
      "metadata": {
        "id": "view-in-github",
        "colab_type": "text"
      },
      "source": [
        "<a href=\"https://colab.research.google.com/github/systic2/colab/blob/main/10%EC%86%90%EC%98%81%EC%88%98_%EB%B9%85%EB%8D%B0%EC%9D%B4%ED%84%B0.ipynb\" target=\"_parent\"><img src=\"https://colab.research.google.com/assets/colab-badge.svg\" alt=\"Open In Colab\"/></a>"
      ]
    },
    {
      "cell_type": "code",
      "metadata": {
        "colab": {
          "base_uri": "https://localhost:8080/"
        },
        "id": "ZH5feGNaordp",
        "outputId": "4ff43400-64df-461b-85c2-6742f1ce65af"
      },
      "source": [
        "from IPython.display import set_matplotlib_formats, display\n",
        "import numpy as np\n",
        "import pandas as pd\n",
        "from cycler import cycler\n",
        "import matplotlib as mpl\n",
        "import seaborn as sns\n",
        "import matplotlib.pyplot as plt\n",
        "!pip install mglearn\n",
        "import mglearn\n",
        "import sklearn\n",
        "!sudo apt-get install -y fonts-nanum\n",
        "!sudo fc-cache -fv\n",
        "!rm ~/.cache/matplotlib -rf\n",
        "plt.rc('font', family='NanumBarunGothic') \n",
        "set_matplotlib_formats('pdf', 'png')\n",
        "plt.rcParams['savefig.dpi'] = 300\n",
        "plt.rcParams['image.cmap'] = \"viridis\"\n",
        "plt.rcParams['image.interpolation'] = \"none\"\n",
        "plt.rcParams['savefig.bbox'] = \"tight\"\n",
        "plt.rcParams['lines.linewidth'] = 2\n",
        "plt.rcParams['legend.numpoints'] = 1\n",
        "plt.rc('axes', prop_cycle=(\n",
        "    cycler('color', mglearn.plot_helpers.cm_cycle.colors) +\n",
        "    cycler('linestyle', ['-', '-', \"--\", (0, (3, 3)), (0, (1.5, 1.5))])))\n",
        "\n",
        "np.set_printoptions(precision=3, suppress=True)\n",
        "\n",
        "pd.set_option(\"display.max_columns\", 8)\n",
        "pd.set_option('precision', 2)\n",
        "\n",
        "__all__ = ['np', 'mglearn', 'display', 'plt', 'pd']\n",
        "\n",
        "from sklearn.model_selection import train_test_split"
      ],
      "execution_count": 101,
      "outputs": [
        {
          "output_type": "stream",
          "name": "stdout",
          "text": [
            "Requirement already satisfied: mglearn in /usr/local/lib/python3.7/dist-packages (0.1.9)\n",
            "Requirement already satisfied: numpy in /usr/local/lib/python3.7/dist-packages (from mglearn) (1.19.5)\n",
            "Requirement already satisfied: scikit-learn in /usr/local/lib/python3.7/dist-packages (from mglearn) (1.0.1)\n",
            "Requirement already satisfied: matplotlib in /usr/local/lib/python3.7/dist-packages (from mglearn) (3.2.2)\n",
            "Requirement already satisfied: pandas in /usr/local/lib/python3.7/dist-packages (from mglearn) (1.1.5)\n",
            "Requirement already satisfied: joblib in /usr/local/lib/python3.7/dist-packages (from mglearn) (1.1.0)\n",
            "Requirement already satisfied: pillow in /usr/local/lib/python3.7/dist-packages (from mglearn) (7.1.2)\n",
            "Requirement already satisfied: imageio in /usr/local/lib/python3.7/dist-packages (from mglearn) (2.4.1)\n",
            "Requirement already satisfied: cycler in /usr/local/lib/python3.7/dist-packages (from mglearn) (0.11.0)\n",
            "Requirement already satisfied: pyparsing!=2.0.4,!=2.1.2,!=2.1.6,>=2.0.1 in /usr/local/lib/python3.7/dist-packages (from matplotlib->mglearn) (3.0.6)\n",
            "Requirement already satisfied: kiwisolver>=1.0.1 in /usr/local/lib/python3.7/dist-packages (from matplotlib->mglearn) (1.3.2)\n",
            "Requirement already satisfied: python-dateutil>=2.1 in /usr/local/lib/python3.7/dist-packages (from matplotlib->mglearn) (2.8.2)\n",
            "Requirement already satisfied: six>=1.5 in /usr/local/lib/python3.7/dist-packages (from python-dateutil>=2.1->matplotlib->mglearn) (1.15.0)\n",
            "Requirement already satisfied: pytz>=2017.2 in /usr/local/lib/python3.7/dist-packages (from pandas->mglearn) (2018.9)\n",
            "Requirement already satisfied: threadpoolctl>=2.0.0 in /usr/local/lib/python3.7/dist-packages (from scikit-learn->mglearn) (3.0.0)\n",
            "Requirement already satisfied: scipy>=1.1.0 in /usr/local/lib/python3.7/dist-packages (from scikit-learn->mglearn) (1.4.1)\n",
            "Reading package lists... Done\n",
            "Building dependency tree       \n",
            "Reading state information... Done\n",
            "fonts-nanum is already the newest version (20170925-1).\n",
            "0 upgraded, 0 newly installed, 0 to remove and 37 not upgraded.\n",
            "/usr/share/fonts: caching, new cache contents: 0 fonts, 1 dirs\n",
            "/usr/share/fonts/truetype: caching, new cache contents: 0 fonts, 3 dirs\n",
            "/usr/share/fonts/truetype/humor-sans: caching, new cache contents: 1 fonts, 0 dirs\n",
            "/usr/share/fonts/truetype/liberation: caching, new cache contents: 16 fonts, 0 dirs\n",
            "/usr/share/fonts/truetype/nanum: caching, new cache contents: 10 fonts, 0 dirs\n",
            "/usr/local/share/fonts: caching, new cache contents: 0 fonts, 0 dirs\n",
            "/root/.local/share/fonts: skipping, no such directory\n",
            "/root/.fonts: skipping, no such directory\n",
            "/var/cache/fontconfig: cleaning cache directory\n",
            "/root/.cache/fontconfig: not cleaning non-existent cache directory\n",
            "/root/.fontconfig: not cleaning non-existent cache directory\n",
            "fc-cache: succeeded\n"
          ]
        }
      ]
    },
    {
      "cell_type": "markdown",
      "metadata": {
        "id": "p5ldmeivqO5U"
      },
      "source": [
        "타이타닉 데이터 불러오기"
      ]
    },
    {
      "cell_type": "code",
      "metadata": {
        "colab": {
          "base_uri": "https://localhost:8080/"
        },
        "id": "YzpDg1FbpAlt",
        "outputId": "dc7454be-6471-4e90-d3c2-ebc55419b294"
      },
      "source": [
        "titanic=pd.read_csv('/content/drive/MyDrive/Colab Notebooks/titanic.csv')\n",
        "titanic.info()"
      ],
      "execution_count": 102,
      "outputs": [
        {
          "output_type": "stream",
          "name": "stdout",
          "text": [
            "<class 'pandas.core.frame.DataFrame'>\n",
            "RangeIndex: 891 entries, 0 to 890\n",
            "Data columns (total 12 columns):\n",
            " #   Column       Non-Null Count  Dtype  \n",
            "---  ------       --------------  -----  \n",
            " 0   PassengerId  891 non-null    int64  \n",
            " 1   Survived     891 non-null    int64  \n",
            " 2   Pclass       891 non-null    int64  \n",
            " 3   Name         891 non-null    object \n",
            " 4   Sex          891 non-null    object \n",
            " 5   Age          714 non-null    float64\n",
            " 6   SibSp        891 non-null    int64  \n",
            " 7   Parch        891 non-null    int64  \n",
            " 8   Ticket       891 non-null    object \n",
            " 9   Fare         891 non-null    float64\n",
            " 10  Cabin        204 non-null    object \n",
            " 11  Embarked     889 non-null    object \n",
            "dtypes: float64(2), int64(5), object(5)\n",
            "memory usage: 83.7+ KB\n"
          ]
        }
      ]
    },
    {
      "cell_type": "code",
      "metadata": {
        "colab": {
          "base_uri": "https://localhost:8080/",
          "height": 235
        },
        "id": "sSgcpUgTqdUh",
        "outputId": "185824dc-e4f3-48ca-d9d4-8e0beed25bed"
      },
      "source": [
        "titanic.head()"
      ],
      "execution_count": 103,
      "outputs": [
        {
          "output_type": "execute_result",
          "data": {
            "text/html": [
              "<div>\n",
              "<style scoped>\n",
              "    .dataframe tbody tr th:only-of-type {\n",
              "        vertical-align: middle;\n",
              "    }\n",
              "\n",
              "    .dataframe tbody tr th {\n",
              "        vertical-align: top;\n",
              "    }\n",
              "\n",
              "    .dataframe thead th {\n",
              "        text-align: right;\n",
              "    }\n",
              "</style>\n",
              "<table border=\"1\" class=\"dataframe\">\n",
              "  <thead>\n",
              "    <tr style=\"text-align: right;\">\n",
              "      <th></th>\n",
              "      <th>PassengerId</th>\n",
              "      <th>Survived</th>\n",
              "      <th>Pclass</th>\n",
              "      <th>Name</th>\n",
              "      <th>...</th>\n",
              "      <th>Ticket</th>\n",
              "      <th>Fare</th>\n",
              "      <th>Cabin</th>\n",
              "      <th>Embarked</th>\n",
              "    </tr>\n",
              "  </thead>\n",
              "  <tbody>\n",
              "    <tr>\n",
              "      <th>0</th>\n",
              "      <td>1</td>\n",
              "      <td>0</td>\n",
              "      <td>3</td>\n",
              "      <td>Braund, Mr. Owen Harris</td>\n",
              "      <td>...</td>\n",
              "      <td>A/5 21171</td>\n",
              "      <td>7.25</td>\n",
              "      <td>NaN</td>\n",
              "      <td>S</td>\n",
              "    </tr>\n",
              "    <tr>\n",
              "      <th>1</th>\n",
              "      <td>2</td>\n",
              "      <td>1</td>\n",
              "      <td>1</td>\n",
              "      <td>Cumings, Mrs. John Bradley (Florence Briggs Th...</td>\n",
              "      <td>...</td>\n",
              "      <td>PC 17599</td>\n",
              "      <td>71.28</td>\n",
              "      <td>C85</td>\n",
              "      <td>C</td>\n",
              "    </tr>\n",
              "    <tr>\n",
              "      <th>2</th>\n",
              "      <td>3</td>\n",
              "      <td>1</td>\n",
              "      <td>3</td>\n",
              "      <td>Heikkinen, Miss. Laina</td>\n",
              "      <td>...</td>\n",
              "      <td>STON/O2. 3101282</td>\n",
              "      <td>7.92</td>\n",
              "      <td>NaN</td>\n",
              "      <td>S</td>\n",
              "    </tr>\n",
              "    <tr>\n",
              "      <th>3</th>\n",
              "      <td>4</td>\n",
              "      <td>1</td>\n",
              "      <td>1</td>\n",
              "      <td>Futrelle, Mrs. Jacques Heath (Lily May Peel)</td>\n",
              "      <td>...</td>\n",
              "      <td>113803</td>\n",
              "      <td>53.10</td>\n",
              "      <td>C123</td>\n",
              "      <td>S</td>\n",
              "    </tr>\n",
              "    <tr>\n",
              "      <th>4</th>\n",
              "      <td>5</td>\n",
              "      <td>0</td>\n",
              "      <td>3</td>\n",
              "      <td>Allen, Mr. William Henry</td>\n",
              "      <td>...</td>\n",
              "      <td>373450</td>\n",
              "      <td>8.05</td>\n",
              "      <td>NaN</td>\n",
              "      <td>S</td>\n",
              "    </tr>\n",
              "  </tbody>\n",
              "</table>\n",
              "<p>5 rows × 12 columns</p>\n",
              "</div>"
            ],
            "text/plain": [
              "   PassengerId  Survived  Pclass  \\\n",
              "0            1         0       3   \n",
              "1            2         1       1   \n",
              "2            3         1       3   \n",
              "3            4         1       1   \n",
              "4            5         0       3   \n",
              "\n",
              "                                                Name  ...            Ticket  \\\n",
              "0                            Braund, Mr. Owen Harris  ...         A/5 21171   \n",
              "1  Cumings, Mrs. John Bradley (Florence Briggs Th...  ...          PC 17599   \n",
              "2                             Heikkinen, Miss. Laina  ...  STON/O2. 3101282   \n",
              "3       Futrelle, Mrs. Jacques Heath (Lily May Peel)  ...            113803   \n",
              "4                           Allen, Mr. William Henry  ...            373450   \n",
              "\n",
              "    Fare  Cabin  Embarked  \n",
              "0   7.25    NaN         S  \n",
              "1  71.28    C85         C  \n",
              "2   7.92    NaN         S  \n",
              "3  53.10   C123         S  \n",
              "4   8.05    NaN         S  \n",
              "\n",
              "[5 rows x 12 columns]"
            ]
          },
          "metadata": {},
          "execution_count": 103
        }
      ]
    },
    {
      "cell_type": "code",
      "metadata": {
        "colab": {
          "base_uri": "https://localhost:8080/",
          "height": 424
        },
        "id": "kIrYUSGaqKnd",
        "outputId": "5cb34e14-72db-4499-d04b-77cdeb953793"
      },
      "source": [
        "titanic = titanic.rename(columns={'PassengerId':'승객번호', 'Survived':'생존여부', \n",
        "                        'Pclass':'사회적지위', 'Name':'이름', 'Sex':'성별', \n",
        "                        'Age':'나이', 'SibSp':'배우자및형제자매수', 'Parch':'부모자식수', \n",
        "                        'Ticket':'티켓번호', 'Fare':'티켓가격', 'Cabin':'객실',\n",
        "                        'Embarked':'탑승항구'})\n",
        "titanic"
      ],
      "execution_count": 104,
      "outputs": [
        {
          "output_type": "execute_result",
          "data": {
            "text/html": [
              "<div>\n",
              "<style scoped>\n",
              "    .dataframe tbody tr th:only-of-type {\n",
              "        vertical-align: middle;\n",
              "    }\n",
              "\n",
              "    .dataframe tbody tr th {\n",
              "        vertical-align: top;\n",
              "    }\n",
              "\n",
              "    .dataframe thead th {\n",
              "        text-align: right;\n",
              "    }\n",
              "</style>\n",
              "<table border=\"1\" class=\"dataframe\">\n",
              "  <thead>\n",
              "    <tr style=\"text-align: right;\">\n",
              "      <th></th>\n",
              "      <th>승객번호</th>\n",
              "      <th>생존여부</th>\n",
              "      <th>사회적지위</th>\n",
              "      <th>이름</th>\n",
              "      <th>...</th>\n",
              "      <th>티켓번호</th>\n",
              "      <th>티켓가격</th>\n",
              "      <th>객실</th>\n",
              "      <th>탑승항구</th>\n",
              "    </tr>\n",
              "  </thead>\n",
              "  <tbody>\n",
              "    <tr>\n",
              "      <th>0</th>\n",
              "      <td>1</td>\n",
              "      <td>0</td>\n",
              "      <td>3</td>\n",
              "      <td>Braund, Mr. Owen Harris</td>\n",
              "      <td>...</td>\n",
              "      <td>A/5 21171</td>\n",
              "      <td>7.25</td>\n",
              "      <td>NaN</td>\n",
              "      <td>S</td>\n",
              "    </tr>\n",
              "    <tr>\n",
              "      <th>1</th>\n",
              "      <td>2</td>\n",
              "      <td>1</td>\n",
              "      <td>1</td>\n",
              "      <td>Cumings, Mrs. John Bradley (Florence Briggs Th...</td>\n",
              "      <td>...</td>\n",
              "      <td>PC 17599</td>\n",
              "      <td>71.28</td>\n",
              "      <td>C85</td>\n",
              "      <td>C</td>\n",
              "    </tr>\n",
              "    <tr>\n",
              "      <th>2</th>\n",
              "      <td>3</td>\n",
              "      <td>1</td>\n",
              "      <td>3</td>\n",
              "      <td>Heikkinen, Miss. Laina</td>\n",
              "      <td>...</td>\n",
              "      <td>STON/O2. 3101282</td>\n",
              "      <td>7.92</td>\n",
              "      <td>NaN</td>\n",
              "      <td>S</td>\n",
              "    </tr>\n",
              "    <tr>\n",
              "      <th>3</th>\n",
              "      <td>4</td>\n",
              "      <td>1</td>\n",
              "      <td>1</td>\n",
              "      <td>Futrelle, Mrs. Jacques Heath (Lily May Peel)</td>\n",
              "      <td>...</td>\n",
              "      <td>113803</td>\n",
              "      <td>53.10</td>\n",
              "      <td>C123</td>\n",
              "      <td>S</td>\n",
              "    </tr>\n",
              "    <tr>\n",
              "      <th>4</th>\n",
              "      <td>5</td>\n",
              "      <td>0</td>\n",
              "      <td>3</td>\n",
              "      <td>Allen, Mr. William Henry</td>\n",
              "      <td>...</td>\n",
              "      <td>373450</td>\n",
              "      <td>8.05</td>\n",
              "      <td>NaN</td>\n",
              "      <td>S</td>\n",
              "    </tr>\n",
              "    <tr>\n",
              "      <th>...</th>\n",
              "      <td>...</td>\n",
              "      <td>...</td>\n",
              "      <td>...</td>\n",
              "      <td>...</td>\n",
              "      <td>...</td>\n",
              "      <td>...</td>\n",
              "      <td>...</td>\n",
              "      <td>...</td>\n",
              "      <td>...</td>\n",
              "    </tr>\n",
              "    <tr>\n",
              "      <th>886</th>\n",
              "      <td>887</td>\n",
              "      <td>0</td>\n",
              "      <td>2</td>\n",
              "      <td>Montvila, Rev. Juozas</td>\n",
              "      <td>...</td>\n",
              "      <td>211536</td>\n",
              "      <td>13.00</td>\n",
              "      <td>NaN</td>\n",
              "      <td>S</td>\n",
              "    </tr>\n",
              "    <tr>\n",
              "      <th>887</th>\n",
              "      <td>888</td>\n",
              "      <td>1</td>\n",
              "      <td>1</td>\n",
              "      <td>Graham, Miss. Margaret Edith</td>\n",
              "      <td>...</td>\n",
              "      <td>112053</td>\n",
              "      <td>30.00</td>\n",
              "      <td>B42</td>\n",
              "      <td>S</td>\n",
              "    </tr>\n",
              "    <tr>\n",
              "      <th>888</th>\n",
              "      <td>889</td>\n",
              "      <td>0</td>\n",
              "      <td>3</td>\n",
              "      <td>Johnston, Miss. Catherine Helen \"Carrie\"</td>\n",
              "      <td>...</td>\n",
              "      <td>W./C. 6607</td>\n",
              "      <td>23.45</td>\n",
              "      <td>NaN</td>\n",
              "      <td>S</td>\n",
              "    </tr>\n",
              "    <tr>\n",
              "      <th>889</th>\n",
              "      <td>890</td>\n",
              "      <td>1</td>\n",
              "      <td>1</td>\n",
              "      <td>Behr, Mr. Karl Howell</td>\n",
              "      <td>...</td>\n",
              "      <td>111369</td>\n",
              "      <td>30.00</td>\n",
              "      <td>C148</td>\n",
              "      <td>C</td>\n",
              "    </tr>\n",
              "    <tr>\n",
              "      <th>890</th>\n",
              "      <td>891</td>\n",
              "      <td>0</td>\n",
              "      <td>3</td>\n",
              "      <td>Dooley, Mr. Patrick</td>\n",
              "      <td>...</td>\n",
              "      <td>370376</td>\n",
              "      <td>7.75</td>\n",
              "      <td>NaN</td>\n",
              "      <td>Q</td>\n",
              "    </tr>\n",
              "  </tbody>\n",
              "</table>\n",
              "<p>891 rows × 12 columns</p>\n",
              "</div>"
            ],
            "text/plain": [
              "     승객번호  생존여부  사회적지위                                                 이름  \\\n",
              "0       1     0      3                            Braund, Mr. Owen Harris   \n",
              "1       2     1      1  Cumings, Mrs. John Bradley (Florence Briggs Th...   \n",
              "2       3     1      3                             Heikkinen, Miss. Laina   \n",
              "3       4     1      1       Futrelle, Mrs. Jacques Heath (Lily May Peel)   \n",
              "4       5     0      3                           Allen, Mr. William Henry   \n",
              "..    ...   ...    ...                                                ...   \n",
              "886   887     0      2                              Montvila, Rev. Juozas   \n",
              "887   888     1      1                       Graham, Miss. Margaret Edith   \n",
              "888   889     0      3           Johnston, Miss. Catherine Helen \"Carrie\"   \n",
              "889   890     1      1                              Behr, Mr. Karl Howell   \n",
              "890   891     0      3                                Dooley, Mr. Patrick   \n",
              "\n",
              "     ...              티켓번호   티켓가격    객실  탑승항구  \n",
              "0    ...         A/5 21171   7.25   NaN     S  \n",
              "1    ...          PC 17599  71.28   C85     C  \n",
              "2    ...  STON/O2. 3101282   7.92   NaN     S  \n",
              "3    ...            113803  53.10  C123     S  \n",
              "4    ...            373450   8.05   NaN     S  \n",
              "..   ...               ...    ...   ...   ...  \n",
              "886  ...            211536  13.00   NaN     S  \n",
              "887  ...            112053  30.00   B42     S  \n",
              "888  ...        W./C. 6607  23.45   NaN     S  \n",
              "889  ...            111369  30.00  C148     C  \n",
              "890  ...            370376   7.75   NaN     Q  \n",
              "\n",
              "[891 rows x 12 columns]"
            ]
          },
          "metadata": {},
          "execution_count": 104
        }
      ]
    },
    {
      "cell_type": "markdown",
      "metadata": {
        "id": "-kk8U7LSqX1z"
      },
      "source": [
        "Q1 : 타이타닉호에 승선했던 승객은 누구인가?"
      ]
    },
    {
      "cell_type": "markdown",
      "metadata": {
        "id": "hDW38muH-5YD"
      },
      "source": [
        "승선한 사람들 이름, 나이, 성별 출력"
      ]
    },
    {
      "cell_type": "code",
      "metadata": {
        "colab": {
          "base_uri": "https://localhost:8080/",
          "height": 424
        },
        "id": "p10LawkVtgy_",
        "outputId": "28e81cc3-eff8-4b22-c324-dede4ebf7cc7"
      },
      "source": [
        "titanic_passenger = titanic[['이름', '나이', '성별']]\n",
        "titanic_passenger"
      ],
      "execution_count": 105,
      "outputs": [
        {
          "output_type": "execute_result",
          "data": {
            "text/html": [
              "<div>\n",
              "<style scoped>\n",
              "    .dataframe tbody tr th:only-of-type {\n",
              "        vertical-align: middle;\n",
              "    }\n",
              "\n",
              "    .dataframe tbody tr th {\n",
              "        vertical-align: top;\n",
              "    }\n",
              "\n",
              "    .dataframe thead th {\n",
              "        text-align: right;\n",
              "    }\n",
              "</style>\n",
              "<table border=\"1\" class=\"dataframe\">\n",
              "  <thead>\n",
              "    <tr style=\"text-align: right;\">\n",
              "      <th></th>\n",
              "      <th>이름</th>\n",
              "      <th>나이</th>\n",
              "      <th>성별</th>\n",
              "    </tr>\n",
              "  </thead>\n",
              "  <tbody>\n",
              "    <tr>\n",
              "      <th>0</th>\n",
              "      <td>Braund, Mr. Owen Harris</td>\n",
              "      <td>22.0</td>\n",
              "      <td>male</td>\n",
              "    </tr>\n",
              "    <tr>\n",
              "      <th>1</th>\n",
              "      <td>Cumings, Mrs. John Bradley (Florence Briggs Th...</td>\n",
              "      <td>38.0</td>\n",
              "      <td>female</td>\n",
              "    </tr>\n",
              "    <tr>\n",
              "      <th>2</th>\n",
              "      <td>Heikkinen, Miss. Laina</td>\n",
              "      <td>26.0</td>\n",
              "      <td>female</td>\n",
              "    </tr>\n",
              "    <tr>\n",
              "      <th>3</th>\n",
              "      <td>Futrelle, Mrs. Jacques Heath (Lily May Peel)</td>\n",
              "      <td>35.0</td>\n",
              "      <td>female</td>\n",
              "    </tr>\n",
              "    <tr>\n",
              "      <th>4</th>\n",
              "      <td>Allen, Mr. William Henry</td>\n",
              "      <td>35.0</td>\n",
              "      <td>male</td>\n",
              "    </tr>\n",
              "    <tr>\n",
              "      <th>...</th>\n",
              "      <td>...</td>\n",
              "      <td>...</td>\n",
              "      <td>...</td>\n",
              "    </tr>\n",
              "    <tr>\n",
              "      <th>886</th>\n",
              "      <td>Montvila, Rev. Juozas</td>\n",
              "      <td>27.0</td>\n",
              "      <td>male</td>\n",
              "    </tr>\n",
              "    <tr>\n",
              "      <th>887</th>\n",
              "      <td>Graham, Miss. Margaret Edith</td>\n",
              "      <td>19.0</td>\n",
              "      <td>female</td>\n",
              "    </tr>\n",
              "    <tr>\n",
              "      <th>888</th>\n",
              "      <td>Johnston, Miss. Catherine Helen \"Carrie\"</td>\n",
              "      <td>NaN</td>\n",
              "      <td>female</td>\n",
              "    </tr>\n",
              "    <tr>\n",
              "      <th>889</th>\n",
              "      <td>Behr, Mr. Karl Howell</td>\n",
              "      <td>26.0</td>\n",
              "      <td>male</td>\n",
              "    </tr>\n",
              "    <tr>\n",
              "      <th>890</th>\n",
              "      <td>Dooley, Mr. Patrick</td>\n",
              "      <td>32.0</td>\n",
              "      <td>male</td>\n",
              "    </tr>\n",
              "  </tbody>\n",
              "</table>\n",
              "<p>891 rows × 3 columns</p>\n",
              "</div>"
            ],
            "text/plain": [
              "                                                    이름    나이      성별\n",
              "0                              Braund, Mr. Owen Harris  22.0    male\n",
              "1    Cumings, Mrs. John Bradley (Florence Briggs Th...  38.0  female\n",
              "2                               Heikkinen, Miss. Laina  26.0  female\n",
              "3         Futrelle, Mrs. Jacques Heath (Lily May Peel)  35.0  female\n",
              "4                             Allen, Mr. William Henry  35.0    male\n",
              "..                                                 ...   ...     ...\n",
              "886                              Montvila, Rev. Juozas  27.0    male\n",
              "887                       Graham, Miss. Margaret Edith  19.0  female\n",
              "888           Johnston, Miss. Catherine Helen \"Carrie\"   NaN  female\n",
              "889                              Behr, Mr. Karl Howell  26.0    male\n",
              "890                                Dooley, Mr. Patrick  32.0    male\n",
              "\n",
              "[891 rows x 3 columns]"
            ]
          },
          "metadata": {},
          "execution_count": 105
        }
      ]
    },
    {
      "cell_type": "markdown",
      "metadata": {
        "id": "Wp3rt8da_BOE"
      },
      "source": [
        "성별 탑승인원 수"
      ]
    },
    {
      "cell_type": "code",
      "metadata": {
        "colab": {
          "base_uri": "https://localhost:8080/"
        },
        "id": "Azb46bu0_GLe",
        "outputId": "3f07ccbc-1200-41e0-80be-028d21d75a17"
      },
      "source": [
        "titanic['성별'].value_counts()"
      ],
      "execution_count": 106,
      "outputs": [
        {
          "output_type": "execute_result",
          "data": {
            "text/plain": [
              "male      577\n",
              "female    314\n",
              "Name: 성별, dtype: int64"
            ]
          },
          "metadata": {},
          "execution_count": 106
        }
      ]
    },
    {
      "cell_type": "markdown",
      "metadata": {
        "id": "tMHstA-x-4QS"
      },
      "source": [
        "사회적지위에 따른 탑승인원"
      ]
    },
    {
      "cell_type": "code",
      "metadata": {
        "colab": {
          "base_uri": "https://localhost:8080/"
        },
        "id": "6DN7Od1t-v5M",
        "outputId": "a4125d4b-2e86-43c7-ef64-085162e5f324"
      },
      "source": [
        "titanic['사회적지위'].value_counts()"
      ],
      "execution_count": 107,
      "outputs": [
        {
          "output_type": "execute_result",
          "data": {
            "text/plain": [
              "3    491\n",
              "1    216\n",
              "2    184\n",
              "Name: 사회적지위, dtype: int64"
            ]
          },
          "metadata": {},
          "execution_count": 107
        }
      ]
    },
    {
      "cell_type": "markdown",
      "metadata": {
        "id": "Vu3vVX7cv4Gl"
      },
      "source": [
        "Q2 : 승객은 어떤 DECK에 있었으며, 그들의 class와 어떤 관계가 있는가?"
      ]
    },
    {
      "cell_type": "markdown",
      "metadata": {
        "id": "J5Qyv5C2yOH6"
      },
      "source": [
        "사회적지위(class)와 객실(DECK) 정보 추출"
      ]
    },
    {
      "cell_type": "code",
      "metadata": {
        "colab": {
          "base_uri": "https://localhost:8080/"
        },
        "id": "IY87cfNYt7Rv",
        "outputId": "cbbdece4-7c98-40b5-a028-981e1728e74c"
      },
      "source": [
        "titanic_deck_class = titanic[['사회적지위', '객실']]\n",
        "\n",
        "titanic_deck_class.info()"
      ],
      "execution_count": 108,
      "outputs": [
        {
          "output_type": "stream",
          "name": "stdout",
          "text": [
            "<class 'pandas.core.frame.DataFrame'>\n",
            "RangeIndex: 891 entries, 0 to 890\n",
            "Data columns (total 2 columns):\n",
            " #   Column  Non-Null Count  Dtype \n",
            "---  ------  --------------  ----- \n",
            " 0   사회적지위   891 non-null    int64 \n",
            " 1   객실      204 non-null    object\n",
            "dtypes: int64(1), object(1)\n",
            "memory usage: 14.0+ KB\n"
          ]
        }
      ]
    },
    {
      "cell_type": "markdown",
      "metadata": {
        "id": "SSsj8tClyKfh"
      },
      "source": [
        "객실 정보가 없는 사람 제외"
      ]
    },
    {
      "cell_type": "code",
      "metadata": {
        "colab": {
          "base_uri": "https://localhost:8080/"
        },
        "id": "NH4H3f4_xOT6",
        "outputId": "77f3cf4f-879a-4f68-ff5b-7807d9d3bae5"
      },
      "source": [
        "titanic_deck_class_non = titanic_deck_class.dropna(axis=0)\n",
        "titanic_deck_class_non.info()"
      ],
      "execution_count": 109,
      "outputs": [
        {
          "output_type": "stream",
          "name": "stdout",
          "text": [
            "<class 'pandas.core.frame.DataFrame'>\n",
            "Int64Index: 204 entries, 1 to 889\n",
            "Data columns (total 2 columns):\n",
            " #   Column  Non-Null Count  Dtype \n",
            "---  ------  --------------  ----- \n",
            " 0   사회적지위   204 non-null    int64 \n",
            " 1   객실      204 non-null    object\n",
            "dtypes: int64(1), object(1)\n",
            "memory usage: 4.8+ KB\n"
          ]
        }
      ]
    },
    {
      "cell_type": "code",
      "metadata": {
        "colab": {
          "base_uri": "https://localhost:8080/"
        },
        "id": "nmB01PolyCtJ",
        "outputId": "2e69a6bf-4334-4365-fb65-5ba8c30c6fd3"
      },
      "source": [
        "titanic_deck_class_non['객실'] = titanic_deck_class_non['객실'].str[:1]"
      ],
      "execution_count": 110,
      "outputs": [
        {
          "output_type": "stream",
          "name": "stderr",
          "text": [
            "/usr/local/lib/python3.7/dist-packages/ipykernel_launcher.py:1: SettingWithCopyWarning: \n",
            "A value is trying to be set on a copy of a slice from a DataFrame.\n",
            "Try using .loc[row_indexer,col_indexer] = value instead\n",
            "\n",
            "See the caveats in the documentation: https://pandas.pydata.org/pandas-docs/stable/user_guide/indexing.html#returning-a-view-versus-a-copy\n",
            "  \"\"\"Entry point for launching an IPython kernel.\n"
          ]
        }
      ]
    },
    {
      "cell_type": "code",
      "metadata": {
        "colab": {
          "base_uri": "https://localhost:8080/",
          "height": 424
        },
        "id": "azMaiYiRyb4Q",
        "outputId": "12f3d3c9-11c2-4535-c722-6370be55751f"
      },
      "source": [
        "titanic_deck_class_non"
      ],
      "execution_count": 111,
      "outputs": [
        {
          "output_type": "execute_result",
          "data": {
            "text/html": [
              "<div>\n",
              "<style scoped>\n",
              "    .dataframe tbody tr th:only-of-type {\n",
              "        vertical-align: middle;\n",
              "    }\n",
              "\n",
              "    .dataframe tbody tr th {\n",
              "        vertical-align: top;\n",
              "    }\n",
              "\n",
              "    .dataframe thead th {\n",
              "        text-align: right;\n",
              "    }\n",
              "</style>\n",
              "<table border=\"1\" class=\"dataframe\">\n",
              "  <thead>\n",
              "    <tr style=\"text-align: right;\">\n",
              "      <th></th>\n",
              "      <th>사회적지위</th>\n",
              "      <th>객실</th>\n",
              "    </tr>\n",
              "  </thead>\n",
              "  <tbody>\n",
              "    <tr>\n",
              "      <th>1</th>\n",
              "      <td>1</td>\n",
              "      <td>C</td>\n",
              "    </tr>\n",
              "    <tr>\n",
              "      <th>3</th>\n",
              "      <td>1</td>\n",
              "      <td>C</td>\n",
              "    </tr>\n",
              "    <tr>\n",
              "      <th>6</th>\n",
              "      <td>1</td>\n",
              "      <td>E</td>\n",
              "    </tr>\n",
              "    <tr>\n",
              "      <th>10</th>\n",
              "      <td>3</td>\n",
              "      <td>G</td>\n",
              "    </tr>\n",
              "    <tr>\n",
              "      <th>11</th>\n",
              "      <td>1</td>\n",
              "      <td>C</td>\n",
              "    </tr>\n",
              "    <tr>\n",
              "      <th>...</th>\n",
              "      <td>...</td>\n",
              "      <td>...</td>\n",
              "    </tr>\n",
              "    <tr>\n",
              "      <th>871</th>\n",
              "      <td>1</td>\n",
              "      <td>D</td>\n",
              "    </tr>\n",
              "    <tr>\n",
              "      <th>872</th>\n",
              "      <td>1</td>\n",
              "      <td>B</td>\n",
              "    </tr>\n",
              "    <tr>\n",
              "      <th>879</th>\n",
              "      <td>1</td>\n",
              "      <td>C</td>\n",
              "    </tr>\n",
              "    <tr>\n",
              "      <th>887</th>\n",
              "      <td>1</td>\n",
              "      <td>B</td>\n",
              "    </tr>\n",
              "    <tr>\n",
              "      <th>889</th>\n",
              "      <td>1</td>\n",
              "      <td>C</td>\n",
              "    </tr>\n",
              "  </tbody>\n",
              "</table>\n",
              "<p>204 rows × 2 columns</p>\n",
              "</div>"
            ],
            "text/plain": [
              "     사회적지위 객실\n",
              "1        1  C\n",
              "3        1  C\n",
              "6        1  E\n",
              "10       3  G\n",
              "11       1  C\n",
              "..     ... ..\n",
              "871      1  D\n",
              "872      1  B\n",
              "879      1  C\n",
              "887      1  B\n",
              "889      1  C\n",
              "\n",
              "[204 rows x 2 columns]"
            ]
          },
          "metadata": {},
          "execution_count": 111
        }
      ]
    },
    {
      "cell_type": "markdown",
      "metadata": {
        "id": "rKzXkeRC6sQu"
      },
      "source": [
        "사회적지위 1(가장 높음)"
      ]
    },
    {
      "cell_type": "code",
      "metadata": {
        "id": "AamLG7bDzMAf"
      },
      "source": [
        "titanic_class1 = titanic_deck_class_non[titanic_deck_class_non['사회적지위']==1]\n",
        "titanic_class1_deck = titanic_class1.groupby(titanic_class1['객실'])"
      ],
      "execution_count": 112,
      "outputs": []
    },
    {
      "cell_type": "code",
      "metadata": {
        "colab": {
          "base_uri": "https://localhost:8080/"
        },
        "id": "sYjvERy20kK9",
        "outputId": "7343f2d4-c873-48f0-ad6a-6c65af97220e"
      },
      "source": [
        "titanic_class1_deck.size()"
      ],
      "execution_count": 113,
      "outputs": [
        {
          "output_type": "execute_result",
          "data": {
            "text/plain": [
              "객실\n",
              "A    15\n",
              "B    47\n",
              "C    59\n",
              "D    29\n",
              "E    25\n",
              "T     1\n",
              "dtype: int64"
            ]
          },
          "metadata": {},
          "execution_count": 113
        }
      ]
    },
    {
      "cell_type": "markdown",
      "metadata": {
        "id": "ajv8hznL6zEd"
      },
      "source": [
        "사회적지위 2"
      ]
    },
    {
      "cell_type": "code",
      "metadata": {
        "id": "k8W2wjr85LZg"
      },
      "source": [
        "titanic_class2 = titanic_deck_class_non[titanic_deck_class_non['사회적지위']==2]\n",
        "titanic_class2_deck = titanic_class2.groupby(titanic_class2['객실'])"
      ],
      "execution_count": 114,
      "outputs": []
    },
    {
      "cell_type": "code",
      "metadata": {
        "colab": {
          "base_uri": "https://localhost:8080/"
        },
        "id": "cV8EaPJg5ci3",
        "outputId": "a23d6fb6-8d70-410e-9317-7b1ef0e59469"
      },
      "source": [
        "titanic_class2_deck.size()"
      ],
      "execution_count": 115,
      "outputs": [
        {
          "output_type": "execute_result",
          "data": {
            "text/plain": [
              "객실\n",
              "D    4\n",
              "E    4\n",
              "F    8\n",
              "dtype: int64"
            ]
          },
          "metadata": {},
          "execution_count": 115
        }
      ]
    },
    {
      "cell_type": "markdown",
      "metadata": {
        "id": "Nn9hcTqv61dO"
      },
      "source": [
        "사회적지위 3"
      ]
    },
    {
      "cell_type": "code",
      "metadata": {
        "id": "80lhU9gG5fU2"
      },
      "source": [
        "titanic_class3 = titanic_deck_class_non[titanic_deck_class_non['사회적지위']==3]\n",
        "titanic_class3_deck = titanic_class3.groupby(titanic_class3['객실'])"
      ],
      "execution_count": 116,
      "outputs": []
    },
    {
      "cell_type": "code",
      "metadata": {
        "colab": {
          "base_uri": "https://localhost:8080/"
        },
        "id": "mclfiOBf5q0Z",
        "outputId": "a8d8518a-b474-425c-a9d4-cb668c6aed7a"
      },
      "source": [
        "titanic_class3_deck.size()"
      ],
      "execution_count": 117,
      "outputs": [
        {
          "output_type": "execute_result",
          "data": {
            "text/plain": [
              "객실\n",
              "E    3\n",
              "F    5\n",
              "G    4\n",
              "dtype: int64"
            ]
          },
          "metadata": {},
          "execution_count": 117
        }
      ]
    },
    {
      "cell_type": "markdown",
      "metadata": {
        "id": "4KD3xPs15_iB"
      },
      "source": [
        "사회적 지위가 높을수록 A,B,C 객실(DECK)에 배치되어있었음을 확인할 수 있다"
      ]
    },
    {
      "cell_type": "markdown",
      "metadata": {
        "id": "3e1Ddp5J654f"
      },
      "source": [
        "Q3 : 어떤 요소가 승객들을 생존하게 만들었을까?  \n",
        "- 침몰한 타이타닉호에서도 어떤 요소가 생존 확률을 높였는지 분석\n",
        "- 생존한 승객 정보는 Survived에 0과 1로 표기됨"
      ]
    },
    {
      "cell_type": "code",
      "metadata": {
        "id": "1WW0sAel5tN2"
      },
      "source": [
        "titanic_survived = titanic[titanic['생존여부']==1]\n",
        "titanic_dead = titanic[titanic['생존여부']==0]"
      ],
      "execution_count": 118,
      "outputs": []
    },
    {
      "cell_type": "code",
      "metadata": {
        "colab": {
          "base_uri": "https://localhost:8080/"
        },
        "id": "p3FKRlEM8x5c",
        "outputId": "4a5c24ff-e373-4d3f-c090-f292097810e1"
      },
      "source": [
        "print(\"생존 : \", titanic_survived['생존여부'].count())\n",
        "print(\"사망 : \", titanic_dead['생존여부'].count())"
      ],
      "execution_count": 119,
      "outputs": [
        {
          "output_type": "stream",
          "name": "stdout",
          "text": [
            "생존 :  342\n",
            "사망 :  549\n"
          ]
        }
      ]
    },
    {
      "cell_type": "code",
      "metadata": {
        "colab": {
          "base_uri": "https://localhost:8080/"
        },
        "id": "VTiaOODQ_EKR",
        "outputId": "cff19742-8e5a-44df-9313-8eea67f13d5e"
      },
      "source": [
        "titanic1 = titanic[['생존여부','사회적지위','성별','나이','배우자및형제자매수','부모자식수','티켓가격','탑승항구']]\n",
        "titanic1.isnull().sum()"
      ],
      "execution_count": 120,
      "outputs": [
        {
          "output_type": "execute_result",
          "data": {
            "text/plain": [
              "생존여부           0\n",
              "사회적지위          0\n",
              "성별             0\n",
              "나이           177\n",
              "배우자및형제자매수      0\n",
              "부모자식수          0\n",
              "티켓가격           0\n",
              "탑승항구           2\n",
              "dtype: int64"
            ]
          },
          "metadata": {},
          "execution_count": 120
        }
      ]
    },
    {
      "cell_type": "code",
      "metadata": {
        "colab": {
          "base_uri": "https://localhost:8080/"
        },
        "id": "tOr-ndWcQMkJ",
        "outputId": "da130c34-ec12-4016-963c-0162bd909ca7"
      },
      "source": [
        "print(titanic1['생존여부'].count())"
      ],
      "execution_count": 121,
      "outputs": [
        {
          "output_type": "stream",
          "name": "stdout",
          "text": [
            "891\n"
          ]
        }
      ]
    },
    {
      "cell_type": "markdown",
      "metadata": {
        "id": "x255JLK7O7R7"
      },
      "source": [
        "나이 결측값을 성별 별 중앙값으로 대체"
      ]
    },
    {
      "cell_type": "code",
      "metadata": {
        "colab": {
          "base_uri": "https://localhost:8080/"
        },
        "id": "518fhE1bEVdk",
        "outputId": "31937768-c223-40c5-acd6-92bb4893d994"
      },
      "source": [
        "titanic1['나이'].fillna(titanic1.groupby('성별')['나이'].transform(\"median\"), inplace=True)"
      ],
      "execution_count": 122,
      "outputs": [
        {
          "output_type": "stream",
          "name": "stderr",
          "text": [
            "/usr/local/lib/python3.7/dist-packages/pandas/core/series.py:4536: SettingWithCopyWarning: \n",
            "A value is trying to be set on a copy of a slice from a DataFrame\n",
            "\n",
            "See the caveats in the documentation: https://pandas.pydata.org/pandas-docs/stable/user_guide/indexing.html#returning-a-view-versus-a-copy\n",
            "  downcast=downcast,\n"
          ]
        }
      ]
    },
    {
      "cell_type": "markdown",
      "metadata": {
        "id": "kpmSg9ZaPC_U"
      },
      "source": [
        "탑승항구 결측값 삭제"
      ]
    },
    {
      "cell_type": "code",
      "metadata": {
        "id": "JGPSDFASO3Kh"
      },
      "source": [
        "titanic1 = titanic1.dropna(axis=0)"
      ],
      "execution_count": 123,
      "outputs": []
    },
    {
      "cell_type": "code",
      "metadata": {
        "colab": {
          "base_uri": "https://localhost:8080/"
        },
        "id": "Al1UvayDPdaE",
        "outputId": "f0bea3e7-20bc-44e4-c735-1e840e56806e"
      },
      "source": [
        "titanic1.isnull().sum()"
      ],
      "execution_count": 124,
      "outputs": [
        {
          "output_type": "execute_result",
          "data": {
            "text/plain": [
              "생존여부         0\n",
              "사회적지위        0\n",
              "성별           0\n",
              "나이           0\n",
              "배우자및형제자매수    0\n",
              "부모자식수        0\n",
              "티켓가격         0\n",
              "탑승항구         0\n",
              "dtype: int64"
            ]
          },
          "metadata": {},
          "execution_count": 124
        }
      ]
    },
    {
      "cell_type": "markdown",
      "metadata": {
        "id": "ugp4plfXQVl_"
      },
      "source": [
        "탑승항구 문자열 확인"
      ]
    },
    {
      "cell_type": "code",
      "metadata": {
        "colab": {
          "base_uri": "https://localhost:8080/"
        },
        "id": "Z5MSjbyT4E8t",
        "outputId": "4fe263c6-9059-4f70-da11-b85940fee902"
      },
      "source": [
        "print(titanic1['탑승항구'].value_counts())"
      ],
      "execution_count": 125,
      "outputs": [
        {
          "output_type": "stream",
          "name": "stdout",
          "text": [
            "S    644\n",
            "C    168\n",
            "Q     77\n",
            "Name: 탑승항구, dtype: int64\n"
          ]
        }
      ]
    },
    {
      "cell_type": "markdown",
      "metadata": {
        "id": "msg9Iahls8Wy"
      },
      "source": [
        "탑승항구 범주형 변수 수치로 변경  \n",
        "S : 0, C : 1, Q : 2"
      ]
    },
    {
      "cell_type": "code",
      "metadata": {
        "colab": {
          "base_uri": "https://localhost:8080/"
        },
        "id": "IAvlGjkqqGml",
        "outputId": "dece07c2-309a-43f7-f091-87206626c6d1"
      },
      "source": [
        "embarked_map = {'S':0, 'C':1, 'Q':2}\n",
        "titanic1['탑승항구'] = titanic1['탑승항구'].map(embarked_map)"
      ],
      "execution_count": 126,
      "outputs": [
        {
          "output_type": "stream",
          "name": "stderr",
          "text": [
            "/usr/local/lib/python3.7/dist-packages/ipykernel_launcher.py:2: SettingWithCopyWarning: \n",
            "A value is trying to be set on a copy of a slice from a DataFrame.\n",
            "Try using .loc[row_indexer,col_indexer] = value instead\n",
            "\n",
            "See the caveats in the documentation: https://pandas.pydata.org/pandas-docs/stable/user_guide/indexing.html#returning-a-view-versus-a-copy\n",
            "  \n"
          ]
        }
      ]
    },
    {
      "cell_type": "code",
      "metadata": {
        "colab": {
          "base_uri": "https://localhost:8080/",
          "height": 424
        },
        "id": "bul7zGcStn35",
        "outputId": "19fe0624-67d6-4faa-84b1-b6fa03577dd6"
      },
      "source": [
        "titanic1"
      ],
      "execution_count": 127,
      "outputs": [
        {
          "output_type": "execute_result",
          "data": {
            "text/html": [
              "<div>\n",
              "<style scoped>\n",
              "    .dataframe tbody tr th:only-of-type {\n",
              "        vertical-align: middle;\n",
              "    }\n",
              "\n",
              "    .dataframe tbody tr th {\n",
              "        vertical-align: top;\n",
              "    }\n",
              "\n",
              "    .dataframe thead th {\n",
              "        text-align: right;\n",
              "    }\n",
              "</style>\n",
              "<table border=\"1\" class=\"dataframe\">\n",
              "  <thead>\n",
              "    <tr style=\"text-align: right;\">\n",
              "      <th></th>\n",
              "      <th>생존여부</th>\n",
              "      <th>사회적지위</th>\n",
              "      <th>성별</th>\n",
              "      <th>나이</th>\n",
              "      <th>배우자및형제자매수</th>\n",
              "      <th>부모자식수</th>\n",
              "      <th>티켓가격</th>\n",
              "      <th>탑승항구</th>\n",
              "    </tr>\n",
              "  </thead>\n",
              "  <tbody>\n",
              "    <tr>\n",
              "      <th>0</th>\n",
              "      <td>0</td>\n",
              "      <td>3</td>\n",
              "      <td>male</td>\n",
              "      <td>22.0</td>\n",
              "      <td>1</td>\n",
              "      <td>0</td>\n",
              "      <td>7.25</td>\n",
              "      <td>0</td>\n",
              "    </tr>\n",
              "    <tr>\n",
              "      <th>1</th>\n",
              "      <td>1</td>\n",
              "      <td>1</td>\n",
              "      <td>female</td>\n",
              "      <td>38.0</td>\n",
              "      <td>1</td>\n",
              "      <td>0</td>\n",
              "      <td>71.28</td>\n",
              "      <td>1</td>\n",
              "    </tr>\n",
              "    <tr>\n",
              "      <th>2</th>\n",
              "      <td>1</td>\n",
              "      <td>3</td>\n",
              "      <td>female</td>\n",
              "      <td>26.0</td>\n",
              "      <td>0</td>\n",
              "      <td>0</td>\n",
              "      <td>7.92</td>\n",
              "      <td>0</td>\n",
              "    </tr>\n",
              "    <tr>\n",
              "      <th>3</th>\n",
              "      <td>1</td>\n",
              "      <td>1</td>\n",
              "      <td>female</td>\n",
              "      <td>35.0</td>\n",
              "      <td>1</td>\n",
              "      <td>0</td>\n",
              "      <td>53.10</td>\n",
              "      <td>0</td>\n",
              "    </tr>\n",
              "    <tr>\n",
              "      <th>4</th>\n",
              "      <td>0</td>\n",
              "      <td>3</td>\n",
              "      <td>male</td>\n",
              "      <td>35.0</td>\n",
              "      <td>0</td>\n",
              "      <td>0</td>\n",
              "      <td>8.05</td>\n",
              "      <td>0</td>\n",
              "    </tr>\n",
              "    <tr>\n",
              "      <th>...</th>\n",
              "      <td>...</td>\n",
              "      <td>...</td>\n",
              "      <td>...</td>\n",
              "      <td>...</td>\n",
              "      <td>...</td>\n",
              "      <td>...</td>\n",
              "      <td>...</td>\n",
              "      <td>...</td>\n",
              "    </tr>\n",
              "    <tr>\n",
              "      <th>886</th>\n",
              "      <td>0</td>\n",
              "      <td>2</td>\n",
              "      <td>male</td>\n",
              "      <td>27.0</td>\n",
              "      <td>0</td>\n",
              "      <td>0</td>\n",
              "      <td>13.00</td>\n",
              "      <td>0</td>\n",
              "    </tr>\n",
              "    <tr>\n",
              "      <th>887</th>\n",
              "      <td>1</td>\n",
              "      <td>1</td>\n",
              "      <td>female</td>\n",
              "      <td>19.0</td>\n",
              "      <td>0</td>\n",
              "      <td>0</td>\n",
              "      <td>30.00</td>\n",
              "      <td>0</td>\n",
              "    </tr>\n",
              "    <tr>\n",
              "      <th>888</th>\n",
              "      <td>0</td>\n",
              "      <td>3</td>\n",
              "      <td>female</td>\n",
              "      <td>27.0</td>\n",
              "      <td>1</td>\n",
              "      <td>2</td>\n",
              "      <td>23.45</td>\n",
              "      <td>0</td>\n",
              "    </tr>\n",
              "    <tr>\n",
              "      <th>889</th>\n",
              "      <td>1</td>\n",
              "      <td>1</td>\n",
              "      <td>male</td>\n",
              "      <td>26.0</td>\n",
              "      <td>0</td>\n",
              "      <td>0</td>\n",
              "      <td>30.00</td>\n",
              "      <td>1</td>\n",
              "    </tr>\n",
              "    <tr>\n",
              "      <th>890</th>\n",
              "      <td>0</td>\n",
              "      <td>3</td>\n",
              "      <td>male</td>\n",
              "      <td>32.0</td>\n",
              "      <td>0</td>\n",
              "      <td>0</td>\n",
              "      <td>7.75</td>\n",
              "      <td>2</td>\n",
              "    </tr>\n",
              "  </tbody>\n",
              "</table>\n",
              "<p>889 rows × 8 columns</p>\n",
              "</div>"
            ],
            "text/plain": [
              "     생존여부  사회적지위      성별    나이  배우자및형제자매수  부모자식수   티켓가격  탑승항구\n",
              "0       0      3    male  22.0          1      0   7.25     0\n",
              "1       1      1  female  38.0          1      0  71.28     1\n",
              "2       1      3  female  26.0          0      0   7.92     0\n",
              "3       1      1  female  35.0          1      0  53.10     0\n",
              "4       0      3    male  35.0          0      0   8.05     0\n",
              "..    ...    ...     ...   ...        ...    ...    ...   ...\n",
              "886     0      2    male  27.0          0      0  13.00     0\n",
              "887     1      1  female  19.0          0      0  30.00     0\n",
              "888     0      3  female  27.0          1      2  23.45     0\n",
              "889     1      1    male  26.0          0      0  30.00     1\n",
              "890     0      3    male  32.0          0      0   7.75     2\n",
              "\n",
              "[889 rows x 8 columns]"
            ]
          },
          "metadata": {},
          "execution_count": 127
        }
      ]
    },
    {
      "cell_type": "markdown",
      "metadata": {
        "id": "hy-WLNNaaKmv"
      },
      "source": [
        "성별 문자열 확인"
      ]
    },
    {
      "cell_type": "code",
      "metadata": {
        "colab": {
          "base_uri": "https://localhost:8080/"
        },
        "id": "nwN515WsaKK4",
        "outputId": "44d09a9a-e460-44cc-d765-ad203076357f"
      },
      "source": [
        "print(titanic1['성별'].value_counts())"
      ],
      "execution_count": 128,
      "outputs": [
        {
          "output_type": "stream",
          "name": "stdout",
          "text": [
            "male      577\n",
            "female    312\n",
            "Name: 성별, dtype: int64\n"
          ]
        }
      ]
    },
    {
      "cell_type": "markdown",
      "metadata": {
        "id": "jZ6H7qoXtWw_"
      },
      "source": [
        "성별 범주형 변수 수치로 변경  \n",
        "male : 0, female : 1"
      ]
    },
    {
      "cell_type": "code",
      "metadata": {
        "colab": {
          "base_uri": "https://localhost:8080/"
        },
        "id": "HN02tKHqtI8b",
        "outputId": "bf7c62ee-28ee-49c2-d0b2-d9d05a051f4c"
      },
      "source": [
        "sex_map = {'male' : 0, 'female' : 1}\n",
        "titanic1['성별'] = titanic1['성별'].map(sex_map)"
      ],
      "execution_count": 129,
      "outputs": [
        {
          "output_type": "stream",
          "name": "stderr",
          "text": [
            "/usr/local/lib/python3.7/dist-packages/ipykernel_launcher.py:2: SettingWithCopyWarning: \n",
            "A value is trying to be set on a copy of a slice from a DataFrame.\n",
            "Try using .loc[row_indexer,col_indexer] = value instead\n",
            "\n",
            "See the caveats in the documentation: https://pandas.pydata.org/pandas-docs/stable/user_guide/indexing.html#returning-a-view-versus-a-copy\n",
            "  \n"
          ]
        }
      ]
    },
    {
      "cell_type": "code",
      "metadata": {
        "colab": {
          "base_uri": "https://localhost:8080/",
          "height": 424
        },
        "id": "OSuCh_ZnuO1K",
        "outputId": "dc533f51-f9ff-49f2-c4f1-f887428f00db"
      },
      "source": [
        "titanic1"
      ],
      "execution_count": 130,
      "outputs": [
        {
          "output_type": "execute_result",
          "data": {
            "text/html": [
              "<div>\n",
              "<style scoped>\n",
              "    .dataframe tbody tr th:only-of-type {\n",
              "        vertical-align: middle;\n",
              "    }\n",
              "\n",
              "    .dataframe tbody tr th {\n",
              "        vertical-align: top;\n",
              "    }\n",
              "\n",
              "    .dataframe thead th {\n",
              "        text-align: right;\n",
              "    }\n",
              "</style>\n",
              "<table border=\"1\" class=\"dataframe\">\n",
              "  <thead>\n",
              "    <tr style=\"text-align: right;\">\n",
              "      <th></th>\n",
              "      <th>생존여부</th>\n",
              "      <th>사회적지위</th>\n",
              "      <th>성별</th>\n",
              "      <th>나이</th>\n",
              "      <th>배우자및형제자매수</th>\n",
              "      <th>부모자식수</th>\n",
              "      <th>티켓가격</th>\n",
              "      <th>탑승항구</th>\n",
              "    </tr>\n",
              "  </thead>\n",
              "  <tbody>\n",
              "    <tr>\n",
              "      <th>0</th>\n",
              "      <td>0</td>\n",
              "      <td>3</td>\n",
              "      <td>0</td>\n",
              "      <td>22.0</td>\n",
              "      <td>1</td>\n",
              "      <td>0</td>\n",
              "      <td>7.25</td>\n",
              "      <td>0</td>\n",
              "    </tr>\n",
              "    <tr>\n",
              "      <th>1</th>\n",
              "      <td>1</td>\n",
              "      <td>1</td>\n",
              "      <td>1</td>\n",
              "      <td>38.0</td>\n",
              "      <td>1</td>\n",
              "      <td>0</td>\n",
              "      <td>71.28</td>\n",
              "      <td>1</td>\n",
              "    </tr>\n",
              "    <tr>\n",
              "      <th>2</th>\n",
              "      <td>1</td>\n",
              "      <td>3</td>\n",
              "      <td>1</td>\n",
              "      <td>26.0</td>\n",
              "      <td>0</td>\n",
              "      <td>0</td>\n",
              "      <td>7.92</td>\n",
              "      <td>0</td>\n",
              "    </tr>\n",
              "    <tr>\n",
              "      <th>3</th>\n",
              "      <td>1</td>\n",
              "      <td>1</td>\n",
              "      <td>1</td>\n",
              "      <td>35.0</td>\n",
              "      <td>1</td>\n",
              "      <td>0</td>\n",
              "      <td>53.10</td>\n",
              "      <td>0</td>\n",
              "    </tr>\n",
              "    <tr>\n",
              "      <th>4</th>\n",
              "      <td>0</td>\n",
              "      <td>3</td>\n",
              "      <td>0</td>\n",
              "      <td>35.0</td>\n",
              "      <td>0</td>\n",
              "      <td>0</td>\n",
              "      <td>8.05</td>\n",
              "      <td>0</td>\n",
              "    </tr>\n",
              "    <tr>\n",
              "      <th>...</th>\n",
              "      <td>...</td>\n",
              "      <td>...</td>\n",
              "      <td>...</td>\n",
              "      <td>...</td>\n",
              "      <td>...</td>\n",
              "      <td>...</td>\n",
              "      <td>...</td>\n",
              "      <td>...</td>\n",
              "    </tr>\n",
              "    <tr>\n",
              "      <th>886</th>\n",
              "      <td>0</td>\n",
              "      <td>2</td>\n",
              "      <td>0</td>\n",
              "      <td>27.0</td>\n",
              "      <td>0</td>\n",
              "      <td>0</td>\n",
              "      <td>13.00</td>\n",
              "      <td>0</td>\n",
              "    </tr>\n",
              "    <tr>\n",
              "      <th>887</th>\n",
              "      <td>1</td>\n",
              "      <td>1</td>\n",
              "      <td>1</td>\n",
              "      <td>19.0</td>\n",
              "      <td>0</td>\n",
              "      <td>0</td>\n",
              "      <td>30.00</td>\n",
              "      <td>0</td>\n",
              "    </tr>\n",
              "    <tr>\n",
              "      <th>888</th>\n",
              "      <td>0</td>\n",
              "      <td>3</td>\n",
              "      <td>1</td>\n",
              "      <td>27.0</td>\n",
              "      <td>1</td>\n",
              "      <td>2</td>\n",
              "      <td>23.45</td>\n",
              "      <td>0</td>\n",
              "    </tr>\n",
              "    <tr>\n",
              "      <th>889</th>\n",
              "      <td>1</td>\n",
              "      <td>1</td>\n",
              "      <td>0</td>\n",
              "      <td>26.0</td>\n",
              "      <td>0</td>\n",
              "      <td>0</td>\n",
              "      <td>30.00</td>\n",
              "      <td>1</td>\n",
              "    </tr>\n",
              "    <tr>\n",
              "      <th>890</th>\n",
              "      <td>0</td>\n",
              "      <td>3</td>\n",
              "      <td>0</td>\n",
              "      <td>32.0</td>\n",
              "      <td>0</td>\n",
              "      <td>0</td>\n",
              "      <td>7.75</td>\n",
              "      <td>2</td>\n",
              "    </tr>\n",
              "  </tbody>\n",
              "</table>\n",
              "<p>889 rows × 8 columns</p>\n",
              "</div>"
            ],
            "text/plain": [
              "     생존여부  사회적지위  성별    나이  배우자및형제자매수  부모자식수   티켓가격  탑승항구\n",
              "0       0      3   0  22.0          1      0   7.25     0\n",
              "1       1      1   1  38.0          1      0  71.28     1\n",
              "2       1      3   1  26.0          0      0   7.92     0\n",
              "3       1      1   1  35.0          1      0  53.10     0\n",
              "4       0      3   0  35.0          0      0   8.05     0\n",
              "..    ...    ...  ..   ...        ...    ...    ...   ...\n",
              "886     0      2   0  27.0          0      0  13.00     0\n",
              "887     1      1   1  19.0          0      0  30.00     0\n",
              "888     0      3   1  27.0          1      2  23.45     0\n",
              "889     1      1   0  26.0          0      0  30.00     1\n",
              "890     0      3   0  32.0          0      0   7.75     2\n",
              "\n",
              "[889 rows x 8 columns]"
            ]
          },
          "metadata": {},
          "execution_count": 130
        }
      ]
    },
    {
      "cell_type": "markdown",
      "metadata": {
        "id": "9WbaoDJHw5lV"
      },
      "source": [
        "나이와 티켓가격 컬럼 정규화"
      ]
    },
    {
      "cell_type": "code",
      "metadata": {
        "colab": {
          "base_uri": "https://localhost:8080/",
          "height": 643
        },
        "id": "rD1VLYUGw_sc",
        "outputId": "6ede34c4-a435-47cf-dec6-632befbcade9"
      },
      "source": [
        "from sklearn.preprocessing import MinMaxScaler\n",
        "scaler_age = MinMaxScaler()\n",
        "scaler_fare = MinMaxScaler()\n",
        "scaler_age.fit(titanic1[['나이']])\n",
        "scaler_fare.fit(titanic1[['티켓가격']])\n",
        "titanic1['나이'] = scaler_age.transform(titanic1[['나이']])\n",
        "titanic1['티켓가격'] = scaler_fare.transform(titanic1[['티켓가격']])\n",
        "titanic1"
      ],
      "execution_count": 131,
      "outputs": [
        {
          "output_type": "stream",
          "name": "stderr",
          "text": [
            "/usr/local/lib/python3.7/dist-packages/ipykernel_launcher.py:6: SettingWithCopyWarning: \n",
            "A value is trying to be set on a copy of a slice from a DataFrame.\n",
            "Try using .loc[row_indexer,col_indexer] = value instead\n",
            "\n",
            "See the caveats in the documentation: https://pandas.pydata.org/pandas-docs/stable/user_guide/indexing.html#returning-a-view-versus-a-copy\n",
            "  \n",
            "/usr/local/lib/python3.7/dist-packages/ipykernel_launcher.py:7: SettingWithCopyWarning: \n",
            "A value is trying to be set on a copy of a slice from a DataFrame.\n",
            "Try using .loc[row_indexer,col_indexer] = value instead\n",
            "\n",
            "See the caveats in the documentation: https://pandas.pydata.org/pandas-docs/stable/user_guide/indexing.html#returning-a-view-versus-a-copy\n",
            "  import sys\n"
          ]
        },
        {
          "output_type": "execute_result",
          "data": {
            "text/html": [
              "<div>\n",
              "<style scoped>\n",
              "    .dataframe tbody tr th:only-of-type {\n",
              "        vertical-align: middle;\n",
              "    }\n",
              "\n",
              "    .dataframe tbody tr th {\n",
              "        vertical-align: top;\n",
              "    }\n",
              "\n",
              "    .dataframe thead th {\n",
              "        text-align: right;\n",
              "    }\n",
              "</style>\n",
              "<table border=\"1\" class=\"dataframe\">\n",
              "  <thead>\n",
              "    <tr style=\"text-align: right;\">\n",
              "      <th></th>\n",
              "      <th>생존여부</th>\n",
              "      <th>사회적지위</th>\n",
              "      <th>성별</th>\n",
              "      <th>나이</th>\n",
              "      <th>배우자및형제자매수</th>\n",
              "      <th>부모자식수</th>\n",
              "      <th>티켓가격</th>\n",
              "      <th>탑승항구</th>\n",
              "    </tr>\n",
              "  </thead>\n",
              "  <tbody>\n",
              "    <tr>\n",
              "      <th>0</th>\n",
              "      <td>0</td>\n",
              "      <td>3</td>\n",
              "      <td>0</td>\n",
              "      <td>0.27</td>\n",
              "      <td>1</td>\n",
              "      <td>0</td>\n",
              "      <td>0.01</td>\n",
              "      <td>0</td>\n",
              "    </tr>\n",
              "    <tr>\n",
              "      <th>1</th>\n",
              "      <td>1</td>\n",
              "      <td>1</td>\n",
              "      <td>1</td>\n",
              "      <td>0.47</td>\n",
              "      <td>1</td>\n",
              "      <td>0</td>\n",
              "      <td>0.14</td>\n",
              "      <td>1</td>\n",
              "    </tr>\n",
              "    <tr>\n",
              "      <th>2</th>\n",
              "      <td>1</td>\n",
              "      <td>3</td>\n",
              "      <td>1</td>\n",
              "      <td>0.32</td>\n",
              "      <td>0</td>\n",
              "      <td>0</td>\n",
              "      <td>0.02</td>\n",
              "      <td>0</td>\n",
              "    </tr>\n",
              "    <tr>\n",
              "      <th>3</th>\n",
              "      <td>1</td>\n",
              "      <td>1</td>\n",
              "      <td>1</td>\n",
              "      <td>0.43</td>\n",
              "      <td>1</td>\n",
              "      <td>0</td>\n",
              "      <td>0.10</td>\n",
              "      <td>0</td>\n",
              "    </tr>\n",
              "    <tr>\n",
              "      <th>4</th>\n",
              "      <td>0</td>\n",
              "      <td>3</td>\n",
              "      <td>0</td>\n",
              "      <td>0.43</td>\n",
              "      <td>0</td>\n",
              "      <td>0</td>\n",
              "      <td>0.02</td>\n",
              "      <td>0</td>\n",
              "    </tr>\n",
              "    <tr>\n",
              "      <th>...</th>\n",
              "      <td>...</td>\n",
              "      <td>...</td>\n",
              "      <td>...</td>\n",
              "      <td>...</td>\n",
              "      <td>...</td>\n",
              "      <td>...</td>\n",
              "      <td>...</td>\n",
              "      <td>...</td>\n",
              "    </tr>\n",
              "    <tr>\n",
              "      <th>886</th>\n",
              "      <td>0</td>\n",
              "      <td>2</td>\n",
              "      <td>0</td>\n",
              "      <td>0.33</td>\n",
              "      <td>0</td>\n",
              "      <td>0</td>\n",
              "      <td>0.03</td>\n",
              "      <td>0</td>\n",
              "    </tr>\n",
              "    <tr>\n",
              "      <th>887</th>\n",
              "      <td>1</td>\n",
              "      <td>1</td>\n",
              "      <td>1</td>\n",
              "      <td>0.23</td>\n",
              "      <td>0</td>\n",
              "      <td>0</td>\n",
              "      <td>0.06</td>\n",
              "      <td>0</td>\n",
              "    </tr>\n",
              "    <tr>\n",
              "      <th>888</th>\n",
              "      <td>0</td>\n",
              "      <td>3</td>\n",
              "      <td>1</td>\n",
              "      <td>0.33</td>\n",
              "      <td>1</td>\n",
              "      <td>2</td>\n",
              "      <td>0.05</td>\n",
              "      <td>0</td>\n",
              "    </tr>\n",
              "    <tr>\n",
              "      <th>889</th>\n",
              "      <td>1</td>\n",
              "      <td>1</td>\n",
              "      <td>0</td>\n",
              "      <td>0.32</td>\n",
              "      <td>0</td>\n",
              "      <td>0</td>\n",
              "      <td>0.06</td>\n",
              "      <td>1</td>\n",
              "    </tr>\n",
              "    <tr>\n",
              "      <th>890</th>\n",
              "      <td>0</td>\n",
              "      <td>3</td>\n",
              "      <td>0</td>\n",
              "      <td>0.40</td>\n",
              "      <td>0</td>\n",
              "      <td>0</td>\n",
              "      <td>0.02</td>\n",
              "      <td>2</td>\n",
              "    </tr>\n",
              "  </tbody>\n",
              "</table>\n",
              "<p>889 rows × 8 columns</p>\n",
              "</div>"
            ],
            "text/plain": [
              "     생존여부  사회적지위  성별    나이  배우자및형제자매수  부모자식수  티켓가격  탑승항구\n",
              "0       0      3   0  0.27          1      0  0.01     0\n",
              "1       1      1   1  0.47          1      0  0.14     1\n",
              "2       1      3   1  0.32          0      0  0.02     0\n",
              "3       1      1   1  0.43          1      0  0.10     0\n",
              "4       0      3   0  0.43          0      0  0.02     0\n",
              "..    ...    ...  ..   ...        ...    ...   ...   ...\n",
              "886     0      2   0  0.33          0      0  0.03     0\n",
              "887     1      1   1  0.23          0      0  0.06     0\n",
              "888     0      3   1  0.33          1      2  0.05     0\n",
              "889     1      1   0  0.32          0      0  0.06     1\n",
              "890     0      3   0  0.40          0      0  0.02     2\n",
              "\n",
              "[889 rows x 8 columns]"
            ]
          },
          "metadata": {},
          "execution_count": 131
        }
      ]
    },
    {
      "cell_type": "code",
      "metadata": {
        "colab": {
          "base_uri": "https://localhost:8080/"
        },
        "id": "zJi4mIAA86Ni",
        "outputId": "8b69502a-b0fb-408f-d246-bc3604f92fbf"
      },
      "source": [
        "from sklearn.decomposition import PCA\n",
        "titanic_features = titanic1.drop('생존여부', axis=1)\n",
        "pca = PCA(n_components=2)\n",
        "pca.fit(titanic_features)\n",
        "titanic_pca = pca.transform(titanic_features)\n",
        "print(str(titanic_pca.shape))"
      ],
      "execution_count": 132,
      "outputs": [
        {
          "output_type": "stream",
          "name": "stdout",
          "text": [
            "(889, 2)\n"
          ]
        }
      ]
    },
    {
      "cell_type": "code",
      "metadata": {
        "colab": {
          "base_uri": "https://localhost:8080/",
          "height": 325
        },
        "id": "lfMvRtJ39zgc",
        "outputId": "7aadb40d-e301-46e6-f4fb-964c2fbc1455"
      },
      "source": [
        "plt.figure(figsize=(8,8))\n",
        "mglearn.discrete_scatter(titanic_pca[:,0], titanic_pca[:,1], titanic1['생존여부'])\n",
        "plt.legend(['사망', '생존'], loc='best')\n",
        "plt.gca().set_aspect(\"equal\")\n",
        "plt.xlabel(\"첫 번째 주성분\")\n",
        "plt.ylabel(\"두 번째 주성분\")"
      ],
      "execution_count": 133,
      "outputs": [
        {
          "output_type": "execute_result",
          "data": {
            "text/plain": [
              "Text(0, 0.5, '두 번째 주성분')"
            ]
          },
          "metadata": {},
          "execution_count": 133
        },
        {
          "output_type": "stream",
          "name": "stderr",
          "text": [
            "/usr/local/lib/python3.7/dist-packages/matplotlib/backends/backend_agg.py:214: RuntimeWarning: Glyph 8722 missing from current font.\n",
            "  font.set_text(s, 0.0, flags=flags)\n",
            "/usr/local/lib/python3.7/dist-packages/matplotlib/backends/backend_agg.py:183: RuntimeWarning: Glyph 8722 missing from current font.\n",
            "  font.set_text(s, 0, flags=flags)\n",
            "/usr/local/lib/python3.7/dist-packages/matplotlib/backends/_backend_pdf_ps.py:62: RuntimeWarning: Glyph 8722 missing from current font.\n",
            "  font.set_text(s, 0.0, flags=ft2font.LOAD_NO_HINTING)\n"
          ]
        },
        {
          "output_type": "display_data",
          "data": {
            "image/png": "[encoded data removed]",
            "application/pdf": "[encoded data removed]",
            "text/plain": [
              "<Figure size 576x576 with 1 Axes>"
            ]
          },
          "metadata": {
            "needs_background": "light"
          }
        }
      ]
    },
    {
      "cell_type": "code",
      "metadata": {
        "colab": {
          "base_uri": "https://localhost:8080/"
        },
        "id": "6Xmlbfb_dmVj",
        "outputId": "cec6cbcc-ef66-45d4-c4f3-222f1ad2b319"
      },
      "source": [
        "print(pca.components_)"
      ],
      "execution_count": 134,
      "outputs": [
        {
          "output_type": "stream",
          "name": "stdout",
          "text": [
            "[[ 0.094  0.076 -0.038  0.887  0.441  0.013 -0.05 ]\n",
            " [-0.972  0.129  0.058  0.012  0.154  0.067 -0.081]]\n"
          ]
        }
      ]
    },
    {
      "cell_type": "code",
      "metadata": {
        "colab": {
          "base_uri": "https://localhost:8080/"
        },
        "id": "wZFGrjuJ0gNz",
        "outputId": "753c2230-b14f-4daa-df12-aee4e71b9c0c"
      },
      "source": [
        "titanic_features.columns"
      ],
      "execution_count": 135,
      "outputs": [
        {
          "output_type": "execute_result",
          "data": {
            "text/plain": [
              "Index(['사회적지위', '성별', '나이', '배우자및형제자매수', '부모자식수', '티켓가격', '탑승항구'], dtype='object')"
            ]
          },
          "metadata": {},
          "execution_count": 135
        }
      ]
    },
    {
      "cell_type": "code",
      "metadata": {
        "colab": {
          "base_uri": "https://localhost:8080/",
          "height": 364
        },
        "id": "3ptofvqJdwob",
        "outputId": "159a3e39-4abd-4c36-d7cf-91a2ea8773ba"
      },
      "source": [
        "plt.matshow(pca.components_, cmap='viridis')\n",
        "plt.yticks([0, 1], ['첫 번째 주성분', '두 번째 주성분'])\n",
        "plt.colorbar()\n",
        "plt.xticks(np.arange(0,7),labels=['사회적지위', '성별', '나이', '배우자및형제자매수', '부모자식수', '티켓가격', '탑승항구'])\n",
        "plt.xlabel('특성')\n",
        "plt.ylabel('주성분')"
      ],
      "execution_count": 136,
      "outputs": [
        {
          "output_type": "execute_result",
          "data": {
            "text/plain": [
              "Text(0, 0.5, '주성분')"
            ]
          },
          "metadata": {},
          "execution_count": 136
        },
        {
          "output_type": "stream",
          "name": "stderr",
          "text": [
            "/usr/local/lib/python3.7/dist-packages/matplotlib/backends/backend_agg.py:214: RuntimeWarning: Glyph 8722 missing from current font.\n",
            "  font.set_text(s, 0.0, flags=flags)\n",
            "/usr/local/lib/python3.7/dist-packages/matplotlib/backends/backend_agg.py:183: RuntimeWarning: Glyph 8722 missing from current font.\n",
            "  font.set_text(s, 0, flags=flags)\n",
            "/usr/local/lib/python3.7/dist-packages/matplotlib/backends/_backend_pdf_ps.py:62: RuntimeWarning: Glyph 8722 missing from current font.\n",
            "  font.set_text(s, 0.0, flags=ft2font.LOAD_NO_HINTING)\n"
          ]
        },
        {
          "output_type": "display_data",
          "data": {
            "image/png": "[encoded data removed]",
            "application/pdf": "[encoded data removed]",
            "text/plain": [
              "<Figure size 1008x288 with 2 Axes>"
            ]
          },
          "metadata": {
            "needs_background": "light"
          }
        }
      ]
    },
    {
      "cell_type": "markdown",
      "metadata": {
        "id": "vFsAV7dsAr8g"
      },
      "source": [
        "주성분 분석으로 분석하였을 때  \n",
        "첫번째 주성분에서는 가족인원 수(배우자및형제자매수, 부모자식수)가 가장 큰 영향을 준 것으로 판단되고  \n",
        "두번째 주성분에서는 사회적지위가 가장 적은 영향을 준 것으로 판단함"
      ]
    },
    {
      "cell_type": "markdown",
      "metadata": {
        "id": "1zHeurmN-Iri"
      },
      "source": [
        "Q4 : 생존자는 몇 명인지 그래프로 확인하시오"
      ]
    },
    {
      "cell_type": "code",
      "metadata": {
        "id": "bcu5vnT1-Qa9"
      },
      "source": [
        "titanic_survived = titanic[titanic['생존여부']==1]\n",
        "titanic_dead = titanic[titanic['생존여부']==0]\n",
        "label = {0:'사망', 1:'생존'}\n",
        "index = np.arange(len(label))"
      ],
      "execution_count": 137,
      "outputs": []
    },
    {
      "cell_type": "code",
      "metadata": {
        "colab": {
          "base_uri": "https://localhost:8080/"
        },
        "id": "mooawHvaS4jY",
        "outputId": "c9aff6e1-cd1a-4f9a-cd58-f1d4c239a267"
      },
      "source": [
        "print(\"생존 : \", titanic_survived['생존여부'].count())\n",
        "print(\"사망 : \", titanic_dead['생존여부'].count())"
      ],
      "execution_count": 138,
      "outputs": [
        {
          "output_type": "stream",
          "name": "stdout",
          "text": [
            "생존 :  342\n",
            "사망 :  549\n"
          ]
        }
      ]
    },
    {
      "cell_type": "code",
      "metadata": {
        "colab": {
          "base_uri": "https://localhost:8080/"
        },
        "id": "1H7SojcrUpMu",
        "outputId": "d30e0e80-b39b-4d1a-9195-6ab0033d2e29"
      },
      "source": [
        "sum_of_people = titanic['생존여부'].value_counts()\n",
        "sum_of_people"
      ],
      "execution_count": 139,
      "outputs": [
        {
          "output_type": "execute_result",
          "data": {
            "text/plain": [
              "0    549\n",
              "1    342\n",
              "Name: 생존여부, dtype: int64"
            ]
          },
          "metadata": {},
          "execution_count": 139
        }
      ]
    },
    {
      "cell_type": "code",
      "metadata": {
        "colab": {
          "base_uri": "https://localhost:8080/",
          "height": 317
        },
        "id": "L_i_DZTwS6rH",
        "outputId": "676a4a69-8a59-4556-f031-045936a2dbcb"
      },
      "source": [
        "plt.bar(index, sum_of_people)\n",
        "plt.title('타이타닉호 생존자 집계', fontsize=20)\n",
        "plt.xlabel('생존여부', fontsize=18)\n",
        "plt.ylabel('인원수', fontsize=18)\n",
        "plt.xticks(index, label, fontsize=15)\n",
        "plt.show()"
      ],
      "execution_count": 140,
      "outputs": [
        {
          "output_type": "display_data",
          "data": {
            "image/png": "[encoded data removed]",
            "application/pdf": "[encoded data removed]",
            "text/plain": [
              "<Figure size 432x288 with 1 Axes>"
            ]
          },
          "metadata": {
            "needs_background": "light"
          }
        }
      ]
    },
    {
      "cell_type": "markdown",
      "metadata": {
        "id": "XaO2mEeVXZdp"
      },
      "source": [
        "Q5 : 생존 확률에 어떤 요소들이 작용했는지 알아보기 위해 Pclass 속성에 대해  \n",
        "다른 속성들과의 상관관계가 있는지 2개 이상 속성으로 상관관계를 시각화를 통해 도출하시오"
      ]
    },
    {
      "cell_type": "markdown",
      "metadata": {
        "id": "yadRZGSf_uta"
      },
      "source": [
        "생존한 사람들의 사회적지위간 생존자 분포"
      ]
    },
    {
      "cell_type": "code",
      "metadata": {
        "colab": {
          "base_uri": "https://localhost:8080/",
          "height": 297
        },
        "id": "wDG_jASu_n26",
        "outputId": "301510b2-b74c-4c87-f6e9-8b1168a2924a"
      },
      "source": [
        "sns.countplot(x=titanic_survived['사회적지위'], data=titanic)"
      ],
      "execution_count": 141,
      "outputs": [
        {
          "output_type": "execute_result",
          "data": {
            "text/plain": [
              "<matplotlib.axes._subplots.AxesSubplot at 0x7fc458ca6450>"
            ]
          },
          "metadata": {},
          "execution_count": 141
        },
        {
          "output_type": "display_data",
          "data": {
            "image/png": "[encoded data removed]",
            "application/pdf": "[encoded data removed]",
            "text/plain": [
              "<Figure size 432x288 with 1 Axes>"
            ]
          },
          "metadata": {
            "needs_background": "light"
          }
        }
      ]
    },
    {
      "cell_type": "markdown",
      "metadata": {
        "id": "WrPs1qeS9Pgu"
      },
      "source": [
        "생존한 사람들의 성별과 사회적지위간 관계 확인"
      ]
    },
    {
      "cell_type": "code",
      "metadata": {
        "id": "MAQM1Mlb7tLZ"
      },
      "source": [
        "titanic_survived_sex=titanic[titanic['생존여부']==1]['성별']"
      ],
      "execution_count": 142,
      "outputs": []
    },
    {
      "cell_type": "code",
      "metadata": {
        "id": "9ybeMj1MUKUF",
        "colab": {
          "base_uri": "https://localhost:8080/",
          "height": 297
        },
        "outputId": "81f05b80-5f4f-4a7b-b705-2a88d5892829"
      },
      "source": [
        "sns.countplot(x=titanic_survived['사회적지위'], hue=list(titanic_survived_sex), data=titanic)"
      ],
      "execution_count": 143,
      "outputs": [
        {
          "output_type": "execute_result",
          "data": {
            "text/plain": [
              "<matplotlib.axes._subplots.AxesSubplot at 0x7fc458b6eb10>"
            ]
          },
          "metadata": {},
          "execution_count": 143
        },
        {
          "output_type": "display_data",
          "data": {
            "image/png": "[encoded data removed]",
            "application/pdf": "[encoded data removed]",
            "text/plain": [
              "<Figure size 432x288 with 1 Axes>"
            ]
          },
          "metadata": {
            "needs_background": "light"
          }
        }
      ]
    },
    {
      "cell_type": "markdown",
      "metadata": {
        "id": "YYtrRUP_9cQt"
      },
      "source": [
        "생존한 사람들의 나이와 사회적지위간 관계"
      ]
    },
    {
      "cell_type": "code",
      "metadata": {
        "id": "oWLRu4I99buH"
      },
      "source": [
        "titanic_survived_age=titanic[titanic['생존여부']==1]['나이']"
      ],
      "execution_count": 144,
      "outputs": []
    },
    {
      "cell_type": "code",
      "metadata": {
        "colab": {
          "base_uri": "https://localhost:8080/",
          "height": 387
        },
        "id": "qRlK3RaY2Vlt",
        "outputId": "66196477-2478-4196-9bff-e720257e11e8"
      },
      "source": [
        "sns.displot(x=titanic_survived['사회적지위'], y=titanic_survived_age, data=titanic)"
      ],
      "execution_count": 145,
      "outputs": [
        {
          "output_type": "execute_result",
          "data": {
            "text/plain": [
              "<seaborn.axisgrid.FacetGrid at 0x7fc459938b90>"
            ]
          },
          "metadata": {},
          "execution_count": 145
        },
        {
          "output_type": "display_data",
          "data": {
            "image/png": "[encoded data removed]",
            "application/pdf": "[encoded data removed]",
            "text/plain": [
              "<Figure size 360x360 with 1 Axes>"
            ]
          },
          "metadata": {
            "needs_background": "light"
          }
        }
      ]
    },
    {
      "cell_type": "markdown",
      "metadata": {
        "id": "16KtW28x_782"
      },
      "source": [
        "생존자 사회적지위와 티켓가격간 관계"
      ]
    },
    {
      "cell_type": "code",
      "metadata": {
        "id": "KYCb_36L62dr"
      },
      "source": [
        "titanic_survived_fare=titanic[titanic['생존여부']==1]['티켓가격']"
      ],
      "execution_count": 146,
      "outputs": []
    },
    {
      "cell_type": "code",
      "metadata": {
        "colab": {
          "base_uri": "https://localhost:8080/",
          "height": 387
        },
        "id": "ekyzTBkA_S8k",
        "outputId": "169548a8-08c7-4159-e0f1-220ee033898b"
      },
      "source": [
        "sns.displot(x=titanic_survived['사회적지위'], y=titanic_survived_fare, data=titanic)"
      ],
      "execution_count": 147,
      "outputs": [
        {
          "output_type": "execute_result",
          "data": {
            "text/plain": [
              "<seaborn.axisgrid.FacetGrid at 0x7fc4597cee90>"
            ]
          },
          "metadata": {},
          "execution_count": 147
        },
        {
          "output_type": "display_data",
          "data": {
            "image/png": "[encoded data removed]",
            "application/pdf": "[encoded data removed]",
            "text/plain": [
              "<Figure size 360x360 with 1 Axes>"
            ]
          },
          "metadata": {
            "needs_background": "light"
          }
        }
      ]
    }
  ]
}